{
 "cells": [
  {
   "cell_type": "code",
   "execution_count": 25,
   "metadata": {
    "collapsed": true
   },
   "outputs": [
    {
     "name": "stdout",
     "output_type": "stream",
     "text": [
      "{'brownsville, TX': 'https://brownsville.craigslist.org', 'central NJ': 'https://cnj.craigslist.org', 'orlando, FL': 'https://orlando.craigslist.org', 'waterloo / cedar falls': 'https://waterloo.craigslist.org', 'chillicothe, OH': 'https://chillicothe.craigslist.org', 'valdosta, GA': 'https://valdosta.craigslist.org', 'springfield, IL': 'https://springfieldil.craigslist.org', 'indianapolis': 'https://indianapolis.craigslist.org', 'macon / warner robins': 'https://macon.craigslist.org', 'kokomo, IN': 'https://kokomo.craigslist.org', 'jackson, MS': 'https://jackson.craigslist.org', 'oregon coast': 'https://oregoncoast.craigslist.org', 'fargo / moorhead': 'https://fargo.craigslist.org', 'cleveland, OH': 'https://cleveland.craigslist.org', 'delaware': 'https://delaware.craigslist.org', 'ann arbor, MI': 'https://annarbor.craigslist.org', 'albany, NY': 'https://albany.craigslist.org', 'north mississippi': 'https://northmiss.craigslist.org', 'eastern CO': 'https://eastco.craigslist.org', 'kennewick-pasco-richland': 'https://kpr.craigslist.org', 'billings, MT': 'https://billings.craigslist.org', 'gadsden-anniston': 'https://gadsden.craigslist.org', 'dubuque': 'https://dubuque.craigslist.org', 'scottsbluff / panhandle': 'https://scottsbluff.craigslist.org', 'southeast missouri': 'https://semo.craigslist.org', 'chico, CA': 'https://chico.craigslist.org', 'hawaii': 'https://honolulu.craigslist.org', 'new river valley - blacksburg, christiansburg, radford, etc': 'https://blacksburg.craigslist.org', 'farmington, NM': 'https://farmington.craigslist.org', 'southeast alaska': 'https://juneau.craigslist.org', 'eastern NC': 'https://eastnc.craigslist.org', 'abilene, TX': 'https://abilene.craigslist.org', 'pueblo, CO': 'https://pueblo.craigslist.org', 'las cruces, NM': 'https://lascruces.craigslist.org', 'athens, OH': 'https://athensohio.craigslist.org', 'northwest CT': 'https://nwct.craigslist.org', 'redding, CA': 'https://redding.craigslist.org', 'eastern montana': 'https://montana.craigslist.org', 'athens, GA': 'https://athensga.craigslist.org', 'rhode island': 'https://providence.craigslist.org', 'wyoming': 'https://wyoming.craigslist.org', 'northern panhandle': 'https://wheeling.craigslist.org', 'jackson, MI': 'https://jxn.craigslist.org', 'stockton, CA': 'https://stockton.craigslist.org', 'bakersfield, CA': 'https://bakersfield.craigslist.org', 'fredericksburg, VA': 'https://fredericksburg.craigslist.org', 'grand rapids, MI': 'https://grandrapids.craigslist.org', 'akron / canton': 'https://akroncanton.craigslist.org', 'detroit metro': 'https://detroit.craigslist.org', 'jackson, TN': 'https://jacksontn.craigslist.org', 'annapolis, MD': 'https://annapolis.craigslist.org', 'holland, MI': 'https://holland.craigslist.org', 'hilton head': 'https://hiltonhead.craigslist.org', 'toledo, OH': 'https://toledo.craigslist.org', 'st cloud, MN': 'https://stcloud.craigslist.org', 'hudson valley, NY': 'https://hudsonvalley.craigslist.org', 'scranton / wilkes-barre': 'https://scranton.craigslist.org', 'western massachusetts': 'https://westernmass.craigslist.org', 'new haven, CT': 'https://newhaven.craigslist.org', 'fairbanks, AK': 'https://fairbanks.craigslist.org', 'louisville, KY': 'https://louisville.craigslist.org', 'southwest michigan': 'https://swmi.craigslist.org', 'minneapolis / st paul': 'https://minneapolis.craigslist.org', 'ashtabula, OH': 'https://ashtabula.craigslist.org', 'springfield, MO': 'https://springfield.craigslist.org', 'florence, SC': 'https://florencesc.craigslist.org', 'long island, NY': 'https://longisland.craigslist.org', 'twin tiers NY/PA': 'https://twintiers.craigslist.org', 'imperial county': 'https://imperial.craigslist.org', 'plattsburgh-adirondacks': 'https://plattsburgh.craigslist.org', 'logan, UT': 'https://logan.craigslist.org', 'tyler / east TX': 'https://easttexas.craigslist.org', 'texarkana': 'https://texarkana.craigslist.org', 'pullman / moscow': 'https://pullman.craigslist.org', 'battle creek, MI': 'https://battlecreek.craigslist.org', 'central louisiana': 'https://cenla.craigslist.org', 'fort dodge, IA': 'https://fortdodge.craigslist.org', 'fayetteville, NC': 'https://fayetteville.craigslist.org', 'gulfport / biloxi': 'https://gulfport.craigslist.org', 'portland, OR': 'https://portland.craigslist.org', 'south jersey': 'https://southjersey.craigslist.org', 'SF bay area': 'https://sfbay.craigslist.org', 'helena, MT': 'https://helena.craigslist.org', 'baton rouge': 'https://batonrouge.craigslist.org', 'western slope': 'https://westslope.craigslist.org', 'lafayette, LA': 'https://lafayette.craigslist.org', 'memphis, TN': 'https://memphis.craigslist.org', 'ogden-clearfield': 'https://ogden.craigslist.org', 'mendocino county': 'https://mendocino.craigslist.org', 'victoria, TX': 'https://victoriatx.craigslist.org', 'phoenix, AZ': 'https://phoenix.craigslist.org', 'lawton, OK': 'https://lawton.craigslist.org', 'eastern panhandle': 'https://martinsburg.craigslist.org', 'jonesboro, AR': 'https://jonesboro.craigslist.org', 'frederick, MD': 'https://frederick.craigslist.org', 'rochester, MN': 'https://rmn.craigslist.org', 'poconos': 'https://poconos.craigslist.org', 'mason city, IA': 'https://masoncity.craigslist.org', 'southern WV': 'https://swv.craigslist.org', 'bowling green, KY': 'https://bgky.craigslist.org', 'yuba-sutter, CA': 'https://yubasutter.craigslist.org', 'meridian, MS': 'https://meridian.craigslist.org', 'baltimore, MD': 'https://baltimore.craigslist.org', 'montgomery, AL': 'https://montgomery.craigslist.org', 'fort smith, AR': 'https://fortsmith.craigslist.org', 'tallahassee': 'https://tallahassee.craigslist.org', 'corvallis/albany': 'https://corvallis.craigslist.org', 'finger lakes, NY': 'https://fingerlakes.craigslist.org', 'lincoln, NE': 'https://lincoln.craigslist.org', 'madison, WI': 'https://madison.craigslist.org', 'kirksville, MO': 'https://kirksville.craigslist.org', 'austin, TX': 'https://austin.craigslist.org', 'duluth / superior': 'https://duluth.craigslist.org', 'western KY': 'https://westky.craigslist.org', 'missoula, MT': 'https://missoula.craigslist.org', 'okaloosa / walton': 'https://okaloosa.craigslist.org', 'cincinnati, OH': 'https://cincinnati.craigslist.org', 'champaign urbana': 'https://chambana.craigslist.org', 'chicago': 'https://chicago.craigslist.org', 'bozeman, MT': 'https://bozeman.craigslist.org', 'san marcos, TX': 'https://sanmarcos.craigslist.org', 'muskegon, MI': 'https://muskegon.craigslist.org', 'south dakota': 'https://sd.craigslist.org', 'lawrence, KS': 'https://lawrence.craigslist.org', 'east oregon': 'https://eastoregon.craigslist.org', 'terre haute, IN': 'https://terrehaute.craigslist.org', 'northwest OK': 'https://enid.craigslist.org', 'lima / findlay': 'https://limaohio.craigslist.org', 'beaumont / port arthur': 'https://beaumont.craigslist.org', 'southwest TX': 'https://bigbend.craigslist.org', 'lansing, MI': 'https://lansing.craigslist.org', 'salt lake city': 'https://saltlakecity.craigslist.org', 'sandusky, OH': 'https://sandusky.craigslist.org', 'brainerd, MN': 'https://brainerd.craigslist.org', 'lancaster, PA': 'https://lancaster.craigslist.org', 'flagstaff / sedona': 'https://flagstaff.craigslist.org', 'monroe, LA': 'https://monroe.craigslist.org', 'dayton / springfield': 'https://dayton.craigslist.org', 'charlotte, NC': 'https://charlotte.craigslist.org', 'sacramento': 'https://sacramento.craigslist.org', 'east idaho': 'https://eastidaho.craigslist.org', 'meadville, PA': 'https://meadville.craigslist.org', 'san luis obispo': 'https://slo.craigslist.org', 'waco, TX': 'https://waco.craigslist.org', 'chattanooga, TN': 'https://chattanooga.craigslist.org', 'salem, OR': 'https://salem.craigslist.org', 'albany, GA': 'https://albanyga.craigslist.org', 'north dakota': 'https://nd.craigslist.org', 'boise, ID': 'https://boise.craigslist.org', 'tuscarawas co': 'https://tuscarawas.craigslist.org', 'galveston, TX': 'https://galveston.craigslist.org', 'southwest VA': 'https://swva.craigslist.org', 'tampa bay area': 'https://tampa.craigslist.org', 'reno / tahoe': 'https://reno.craigslist.org', 'raleigh / durham / CH': 'https://raleigh.craigslist.org', 'tuscaloosa': 'https://tuscaloosa.craigslist.org', 'northwest GA': 'https://nwga.craigslist.org', 'zanesville / cambridge': 'https://zanesville.craigslist.org', \"spokane / coeur d'alene\": 'https://spokane.craigslist.org', 'parkersburg-marietta': 'https://parkersburg.craigslist.org', 'show low, AZ': 'https://showlow.craigslist.org', 'new orleans': 'https://neworleans.craigslist.org', 'cape cod / islands': 'https://capecod.craigslist.org', 'vermont': 'https://vermont.craigslist.org', 'des moines, IA': 'https://desmoines.craigslist.org', 'olympic peninsula': 'https://olympic.craigslist.org', 'altoona-johnstown': 'https://altoona.craigslist.org', 'peoria, IL': 'https://peoria.craigslist.org', 'lynchburg, VA': 'https://lynchburg.craigslist.org', 'lafayette / west lafayette': 'https://tippecanoe.craigslist.org', 'albuquerque': 'https://albuquerque.craigslist.org', 'south bend / michiana': 'https://southbend.craigslist.org', 'charleston, SC': 'https://charleston.craigslist.org', 'houma, LA': 'https://houma.craigslist.org', 'youngstown, OH': 'https://youngstown.craigslist.org', 'bend, OR': 'https://bend.craigslist.org', 'binghamton, NY': 'https://binghamton.craigslist.org', 'wichita, KS': 'https://wichita.craigslist.org', 'chautauqua, NY': 'https://chautauqua.craigslist.org', 'boston - includes merrimack valley, metro west, north shore, south shore': 'https://boston.craigslist.org', 'san antonio': 'https://sanantonio.craigslist.org', 'great falls, MT': 'https://greatfalls.craigslist.org', 'skagit / island / SJI': 'https://skagit.craigslist.org', 'worcester / central MA': 'https://worcester.craigslist.org', 'harrisburg, PA': 'https://harrisburg.craigslist.org', 'san diego': 'https://sandiego.craigslist.org', 'pittsburgh, PA': 'https://pittsburgh.craigslist.org', 'wilmington, NC': 'https://wilmington.craigslist.org', 'northeast SD': 'https://nesd.craigslist.org', 'tri-cities, TN': 'https://tricities.craigslist.org', 'palm springs, CA': 'https://palmsprings.craigslist.org', 'wausau, WI': 'https://wausau.craigslist.org', 'bismarck, ND': 'https://bismarck.craigslist.org', 'quad cities, IA/IL': 'https://quadcities.craigslist.org', 'jacksonville, FL': 'https://jacksonville.craigslist.org', 'northern WI': 'https://northernwi.craigslist.org', 'mansfield, OH': 'https://mansfield.craigslist.org', 'wenatchee, WA': 'https://wenatchee.craigslist.org', 'mobile, AL': 'https://mobile.craigslist.org', 'appleton-oshkosh-FDL': 'https://appleton.craigslist.org', 'flint, MI': 'https://flint.craigslist.org', 'siskiyou county': 'https://siskiyou.craigslist.org', 'south coast, MA - southern bristol and plymouth counties': 'https://southcoast.craigslist.org', 'las vegas': 'https://lasvegas.craigslist.org', 'richmond, IN': 'https://richmondin.craigslist.org', 'hartford, CT': 'https://hartford.craigslist.org', 'decatur, IL': 'https://decatur.craigslist.org', 'erie, PA': 'https://erie.craigslist.org', 'clovis / portales': 'https://clovis.craigslist.org', 'cumberland valley': 'https://chambersburg.craigslist.org', 'hampton roads': 'https://norfolk.craigslist.org', 'statesboro, GA': 'https://statesboro.craigslist.org', 'western IL': 'https://quincy.craigslist.org', 'lexington, KY': 'https://lexington.craigslist.org', 'moses lake, WA': 'https://moseslake.craigslist.org', 'mattoon-charleston': 'https://mattoon.craigslist.org', 'st augustine, FL': 'https://staugustine.craigslist.org', 'northern michigan': 'https://nmi.craigslist.org', 'greensboro, NC': 'https://greensboro.craigslist.org', 'shreveport, LA': 'https://shreveport.craigslist.org', 'pierre / central SD': 'https://csd.craigslist.org', 'southwest MS': 'https://natchez.craigslist.org', 'topeka, KS': 'https://topeka.craigslist.org', 'lehigh valley': 'https://allentown.craigslist.org', 'janesville, WI': 'https://janesville.craigslist.org', 'south florida - includes separate sections for miami/dade, broward, and palm beach counties': 'https://miami.craigslist.org', 'los angeles': 'https://losangeles.craigslist.org', 'inland empire, CA - riverside and san bernardino counties': 'https://inlandempire.craigslist.org', 'roseburg, OR': 'https://roseburg.craigslist.org', 'rapid city / west SD': 'https://rapidcity.craigslist.org', 'boulder, CO': 'https://boulder.craigslist.org', 'ventura county': 'https://ventura.craigslist.org', 'kalispell, MT': 'https://kalispell.craigslist.org', 'morgantown, WV': 'https://morgantown.craigslist.org', 'mankato, MN': 'https://mankato.craigslist.org', 'roanoke, VA': 'https://roanoke.craigslist.org', 'st louis, MO': 'https://stlouis.craigslist.org', 'the thumb, MI': 'https://thumb.craigslist.org', 'manhattan, KS': 'https://ksu.craigslist.org', 'monterey bay': 'https://monterey.craigslist.org', 'west virginia (old)': 'https://wv.craigslist.org', 'joplin, MO': 'https://joplin.craigslist.org', 'north central FL': 'https://lakecity.craigslist.org', 'charleston, WV': 'https://charlestonwv.craigslist.org', 'savannah / hinesville': 'https://savannah.craigslist.org', 'la salle co': 'https://lasalle.craigslist.org', 'santa barbara': 'https://santabarbara.craigslist.org', 'st george, UT': 'https://stgeorge.craigslist.org', 'richmond, VA': 'https://richmond.craigslist.org', 'williamsport, PA': 'https://williamsport.craigslist.org', 'santa fe / taos': 'https://santafe.craigslist.org', 'myrtle beach, SC': 'https://myrtlebeach.craigslist.org', 'rockford, IL': 'https://rockford.craigslist.org', 'upper peninsula, MI': 'https://up.craigslist.org', 'lake of the ozarks': 'https://loz.craigslist.org', 'bloomington-normal': 'https://bn.craigslist.org', 'north jersey': 'https://newjersey.craigslist.org', 'merced, CA': 'https://merced.craigslist.org', 'iowa city, IA': 'https://iowacity.craigslist.org', 'hattiesburg, MS': 'https://hattiesburg.craigslist.org', 'atlanta, GA': 'https://atlanta.craigslist.org', 'bloomington, IN': 'https://bloomington.craigslist.org', 'southern illinois': 'https://carbondale.craigslist.org', 'birmingham, AL': 'https://bham.craigslist.org', 'knoxville, TN': 'https://knoxville.craigslist.org', 'dallas / fort worth': 'https://dallas.craigslist.org', 'ocala, FL': 'https://ocala.craigslist.org', 'humboldt county': 'https://humboldt.craigslist.org', 'sioux falls / SE SD': 'https://siouxfalls.craigslist.org', 'glens falls, NY': 'https://glensfalls.craigslist.org', 'jacksonville, NC': 'https://onslow.craigslist.org', 'medford-ashland': 'https://medford.craigslist.org', 'northwest KS': 'https://nwks.craigslist.org', 'eastern kentucky': 'https://eastky.craigslist.org', 'eastern CT': 'https://newlondon.craigslist.org', 'tucson, AZ': 'https://tucson.craigslist.org', 'wichita falls, TX': 'https://wichitafalls.craigslist.org', 'asheville, NC': 'https://asheville.craigslist.org', 'houston, TX': 'https://houston.craigslist.org', 'southeast KS': 'https://seks.craigslist.org', 'oklahoma city': 'https://oklahomacity.craigslist.org', 'san angelo, TX': 'https://sanangelo.craigslist.org', 'winchester, VA': 'https://winchester.craigslist.org', 'port huron, MI': 'https://porthuron.craigslist.org', 'washington, DC': 'https://washingtondc.craigslist.org', 'ft myers / SW florida': 'https://fortmyers.craigslist.org', 'del rio / eagle pass': 'https://delrio.craigslist.org', 'potsdam-canton-massena': 'https://potsdam.craigslist.org', 'elko, NV': 'https://elko.craigslist.org', 'huntsville / decatur': 'https://huntsville.craigslist.org', 'texoma': 'https://texoma.craigslist.org', 'sierra vista, AZ': 'https://sierravista.craigslist.org', 'kenosha-racine': 'https://racine.craigslist.org', 'grand forks': 'https://grandforks.craigslist.org', 'owensboro, KY': 'https://owensboro.craigslist.org', 'cookeville, TN': 'https://cookeville.craigslist.org', 'corpus christi, TX': 'https://corpuschristi.craigslist.org', 'cedar rapids, IA': 'https://cedarrapids.craigslist.org', 'bemidji, MN': 'https://bemidji.craigslist.org', 'syracuse, NY': 'https://syracuse.craigslist.org', 'butte, MT': 'https://butte.craigslist.org', 'ames, IA': 'https://ames.craigslist.org', 'eastern shore': 'https://easternshore.craigslist.org', 'prescott, AZ': 'https://prescott.craigslist.org', 'state college, PA': 'https://pennstate.craigslist.org', 'southern maryland': 'https://smd.craigslist.org', 'roswell / carlsbad': 'https://roswell.craigslist.org', 'little rock': 'https://littlerock.craigslist.org', 'nashville, TN': 'https://nashville.craigslist.org', 'visalia-tulare': 'https://visalia.craigslist.org', 'florence / muscle shoals': 'https://shoals.craigslist.org', 'kansas city, MO': 'https://kansascity.craigslist.org', 'twin falls, ID': 'https://twinfalls.craigslist.org', 'santa maria, CA': 'https://santamaria.craigslist.org', 'daytona beach': 'https://daytona.craigslist.org', 'modesto, CA': 'https://modesto.craigslist.org', 'charlottesville, VA': 'https://charlottesville.craigslist.org', 'susanville, CA': 'https://susanville.craigslist.org', 'winston-salem, NC': 'https://winstonsalem.craigslist.org', 'yuma, AZ': 'https://yuma.craigslist.org', 'el paso, TX': 'https://elpaso.craigslist.org', 'fayetteville, AR': 'https://fayar.craigslist.org', 'sarasota-bradenton': 'https://sarasota.craigslist.org', 'lake charles, LA': 'https://lakecharles.craigslist.org', 'odessa / midland': 'https://odessa.craigslist.org', 'maine': 'https://maine.craigslist.org', 'dothan, AL': 'https://dothan.craigslist.org', 'florida keys': 'https://keys.craigslist.org', 'seattle-tacoma': 'https://seattle.craigslist.org', 'panama city, FL': 'https://panamacity.craigslist.org', 'milwaukee, WI': 'https://milwaukee.craigslist.org', 'gold country': 'https://goldcountry.craigslist.org', 'eugene, OR': 'https://eugene.craigslist.org', 'greenville / upstate': 'https://greenville.craigslist.org', 'columbia / jeff city': 'https://columbiamo.craigslist.org', 'philadelphia': 'https://philadelphia.craigslist.org', 'st joseph': 'https://stjoseph.craigslist.org', 'evansville, IN': 'https://evansville.craigslist.org', 'lewiston / clarkston': 'https://lewiston.craigslist.org', 'la crosse, WI': 'https://lacrosse.craigslist.org', 'central michigan': 'https://centralmich.craigslist.org', 'southwest MN': 'https://marshall.craigslist.org', 'college station, TX': 'https://collegestation.craigslist.org', 'muncie / anderson': 'https://muncie.craigslist.org', 'new hampshire': 'https://nh.craigslist.org', 'space coast, FL': 'https://spacecoast.craigslist.org', 'heartland florida': 'https://cfl.craigslist.org', 'provo / orem': 'https://provo.craigslist.org', 'utica-rome-oneida': 'https://utica.craigslist.org', 'mohave county': 'https://mohave.craigslist.org', 'north platte, NE': 'https://northplatte.craigslist.org', 'brunswick, GA': 'https://brunswick.craigslist.org', 'hanford-corcoran': 'https://hanford.craigslist.org', 'buffalo, NY': 'https://buffalo.craigslist.org', 'hickory / lenoir': 'https://hickory.craigslist.org', 'southwest KS': 'https://swks.craigslist.org', 'kenai peninsula': 'https://kenai.craigslist.org', 'lubbock, TX': 'https://lubbock.craigslist.org', 'ithaca, NY': 'https://ithaca.craigslist.org', 'fort collins / north CO': 'https://fortcollins.craigslist.org', 'klamath falls, OR': 'https://klamath.craigslist.org', 'fresno / madera': 'https://fresno.craigslist.org', 'deep east texas': 'https://nacogdoches.craigslist.org', 'eau claire, WI': 'https://eauclaire.craigslist.org', 'outer banks': 'https://outerbanks.craigslist.org', 'clarksville, TN': 'https://clarksville.craigslist.org', 'augusta, GA': 'https://augusta.craigslist.org', 'auburn, AL': 'https://auburn.craigslist.org', 'colorado springs': 'https://cosprings.craigslist.org', 'mcallen / edinburg': 'https://mcallen.craigslist.org', 'sioux city, IA': 'https://siouxcity.craigslist.org', 'monroe, MI': 'https://monroemi.craigslist.org', 'sheboygan, WI': 'https://sheboygan.craigslist.org', 'orange county, CA': 'https://orangecounty.craigslist.org', 'grand island, NE': 'https://grandisland.craigslist.org', 'anchorage / mat-su': 'https://anchorage.craigslist.org', 'salina, KS': 'https://salina.craigslist.org', 'boone, NC': 'https://boone.craigslist.org', 'rochester, NY': 'https://rochester.craigslist.org', 'new york city': 'https://newyork.craigslist.org', 'watertown, NY': 'https://watertown.craigslist.org', 'york, PA': 'https://york.craigslist.org', 'western maryland': 'https://westmd.craigslist.org', 'jersey shore': 'https://jerseyshore.craigslist.org', 'bellingham, WA': 'https://bellingham.craigslist.org', 'gainesville, FL': 'https://gainesville.craigslist.org', 'laredo, TX': 'https://laredo.craigslist.org', 'kalamazoo, MI': 'https://kalamazoo.craigslist.org', 'danville': 'https://danville.craigslist.org', 'treasure coast, FL': 'https://treasure.craigslist.org', 'high rockies': 'https://rockies.craigslist.org', 'green bay, WI': 'https://greenbay.craigslist.org', 'harrisonburg, VA': 'https://harrisonburg.craigslist.org', 'lakeland, FL': 'https://lakeland.craigslist.org', 'denver, CO': 'https://denver.craigslist.org', 'pensacola, FL': 'https://pensacola.craigslist.org', 'tulsa, OK': 'https://tulsa.craigslist.org', 'yakima, WA': 'https://yakima.craigslist.org', 'catskills': 'https://catskills.craigslist.org', 'columbus, OH': 'https://columbus.craigslist.org', 'killeen / temple / ft hood': 'https://killeen.craigslist.org', 'fort wayne, IN': 'https://fortwayne.craigslist.org', 'columbia, SC': 'https://columbia.craigslist.org', 'columbus, GA': 'https://columbusga.craigslist.org', 'elmira-corning': 'https://elmira.craigslist.org', 'reading, PA': 'https://reading.craigslist.org', 'amarillo, TX': 'https://amarillo.craigslist.org', 'southeast IA': 'https://ottumwa.craigslist.org', 'stillwater, OK': 'https://stillwater.craigslist.org', 'oneonta, NY': 'https://oneonta.craigslist.org', 'saginaw-midland-baycity': 'https://saginaw.craigslist.org', 'huntington-ashland': 'https://huntington.craigslist.org', 'omaha / council bluffs': 'https://omaha.craigslist.org'}\n"
     ]
    }
   ],
   "source": [
    "import requests\n",
    "from bs4 import BeautifulSoup as bs\n",
    "\n",
    "url = 'https://geo.craigslist.org/iso/us' # Only USA\n",
    "# url = 'https://www.craigslist.org/about/sites' # All Locations\n",
    "\n",
    "headers = {'User-Agent': 'Mozilla/5.0 (Macintosh; Intel Mac OS X 10_10_1) '\n",
    "           'AppleWebKit/537.36 (KHTML, like Gecko) Chrome/39.0.2171.95 Safari/'\n",
    "           '537.36'}\n",
    "\n",
    "response = requests.get(url, headers=headers)\n",
    "# print(response.content)\n",
    "# print(response.status_code)\n",
    "# print(response.headers)\n",
    "\n",
    "soup = bs(response.content, 'html.parser')\n",
    "# soup.prettify\n",
    "# print(soup)\n",
    "\n",
    "city_dict = {}\n",
    "\n",
    "section = soup.find('div', class_='geo-site-list-container')\n",
    "# section = soup.find('section', class_='body')\n",
    "\n",
    "for li in section.find_all('li'):\n",
    "    city_name = li.text\n",
    "    for link in li.find_all('a'):\n",
    "        city_dict[city_name] = link['href']\n",
    "print(city_dict)\n",
    "# for list_item in ul_lists:\n",
    "#     city_dict[list_item.text] = list_item['href']"
   ]
  },
  {
   "cell_type": "code",
   "execution_count": 26,
   "metadata": {
    "collapsed": true
   },
   "outputs": [],
   "source": [
    "# Techniques in navigating the DOM elements you want, narrowing down\n",
    "# print(len(ul_lists))\n",
    "# print(ul_lists[-1])\n",
    "# print(ul_lists)\n",
    "# ul_lists = soup.find_all('a')\n",
    "# print(ul_lists[8:728])"
   ]
  },
  {
   "cell_type": "code",
   "execution_count": 27,
   "metadata": {},
   "outputs": [],
   "source": [
    "la_url = city_dict[\"los angeles\"]\n",
    "# guangzhou_url"
   ]
  },
  {
   "cell_type": "code",
   "execution_count": 28,
   "metadata": {
    "collapsed": true
   },
   "outputs": [],
   "source": [
    "search_url = la_url + 'search/sss'"
   ]
  },
  {
   "cell_type": "code",
   "execution_count": 29,
   "metadata": {
    "collapsed": true
   },
   "outputs": [],
   "source": [
    "search_params = {'sort':'rel',\n",
    "                'min_price':'50',\n",
    "                'mobile_os':'2',\n",
    "                'query':'galaxy_s -cracked -replacement -broken -case -charger',\n",
    "                'srchType': 'T'}"
   ]
  },
  {
   "cell_type": "code",
   "execution_count": 30,
   "metadata": {
    "collapsed": true
   },
   "outputs": [
    {
     "ename": "ConnectionError",
     "evalue": "HTTPSConnectionPool(host='losangeles.craigslist.orgsearch', port=443): Max retries exceeded with url: /sss?min_price=50&srchType=T&mobile_os=2&query=galaxy_s+-cracked+-replacement+-broken+-case+-charger&sort=rel (Caused by NewConnectionError('<urllib3.connection.VerifiedHTTPSConnection object at 0x107898e10>: Failed to establish a new connection: [Errno 8] nodename nor servname provided, or not known',))",
     "output_type": "error",
     "traceback": [
      "\u001b[0;31m---------------------------------------------------------------------------\u001b[0m",
      "\u001b[0;31mgaierror\u001b[0m                                  Traceback (most recent call last)",
      "\u001b[0;32m~/Documents/pprojects/scraper/lib/python3.5/site-packages/urllib3/connection.py\u001b[0m in \u001b[0;36m_new_conn\u001b[0;34m(self)\u001b[0m\n\u001b[1;32m    140\u001b[0m             conn = connection.create_connection(\n\u001b[0;32m--> 141\u001b[0;31m                 (self.host, self.port), self.timeout, **extra_kw)\n\u001b[0m\u001b[1;32m    142\u001b[0m \u001b[0;34m\u001b[0m\u001b[0m\n",
      "\u001b[0;32m~/Documents/pprojects/scraper/lib/python3.5/site-packages/urllib3/util/connection.py\u001b[0m in \u001b[0;36mcreate_connection\u001b[0;34m(address, timeout, source_address, socket_options)\u001b[0m\n\u001b[1;32m     59\u001b[0m \u001b[0;34m\u001b[0m\u001b[0m\n\u001b[0;32m---> 60\u001b[0;31m     \u001b[0;32mfor\u001b[0m \u001b[0mres\u001b[0m \u001b[0;32min\u001b[0m \u001b[0msocket\u001b[0m\u001b[0;34m.\u001b[0m\u001b[0mgetaddrinfo\u001b[0m\u001b[0;34m(\u001b[0m\u001b[0mhost\u001b[0m\u001b[0;34m,\u001b[0m \u001b[0mport\u001b[0m\u001b[0;34m,\u001b[0m \u001b[0mfamily\u001b[0m\u001b[0;34m,\u001b[0m \u001b[0msocket\u001b[0m\u001b[0;34m.\u001b[0m\u001b[0mSOCK_STREAM\u001b[0m\u001b[0;34m)\u001b[0m\u001b[0;34m:\u001b[0m\u001b[0;34m\u001b[0m\u001b[0m\n\u001b[0m\u001b[1;32m     61\u001b[0m         \u001b[0maf\u001b[0m\u001b[0;34m,\u001b[0m \u001b[0msocktype\u001b[0m\u001b[0;34m,\u001b[0m \u001b[0mproto\u001b[0m\u001b[0;34m,\u001b[0m \u001b[0mcanonname\u001b[0m\u001b[0;34m,\u001b[0m \u001b[0msa\u001b[0m \u001b[0;34m=\u001b[0m \u001b[0mres\u001b[0m\u001b[0;34m\u001b[0m\u001b[0m\n",
      "\u001b[0;32m/Library/Frameworks/Python.framework/Versions/3.5/lib/python3.5/socket.py\u001b[0m in \u001b[0;36mgetaddrinfo\u001b[0;34m(host, port, family, type, proto, flags)\u001b[0m\n\u001b[1;32m    731\u001b[0m     \u001b[0maddrlist\u001b[0m \u001b[0;34m=\u001b[0m \u001b[0;34m[\u001b[0m\u001b[0;34m]\u001b[0m\u001b[0;34m\u001b[0m\u001b[0m\n\u001b[0;32m--> 732\u001b[0;31m     \u001b[0;32mfor\u001b[0m \u001b[0mres\u001b[0m \u001b[0;32min\u001b[0m \u001b[0m_socket\u001b[0m\u001b[0;34m.\u001b[0m\u001b[0mgetaddrinfo\u001b[0m\u001b[0;34m(\u001b[0m\u001b[0mhost\u001b[0m\u001b[0;34m,\u001b[0m \u001b[0mport\u001b[0m\u001b[0;34m,\u001b[0m \u001b[0mfamily\u001b[0m\u001b[0;34m,\u001b[0m \u001b[0mtype\u001b[0m\u001b[0;34m,\u001b[0m \u001b[0mproto\u001b[0m\u001b[0;34m,\u001b[0m \u001b[0mflags\u001b[0m\u001b[0;34m)\u001b[0m\u001b[0;34m:\u001b[0m\u001b[0;34m\u001b[0m\u001b[0m\n\u001b[0m\u001b[1;32m    733\u001b[0m         \u001b[0maf\u001b[0m\u001b[0;34m,\u001b[0m \u001b[0msocktype\u001b[0m\u001b[0;34m,\u001b[0m \u001b[0mproto\u001b[0m\u001b[0;34m,\u001b[0m \u001b[0mcanonname\u001b[0m\u001b[0;34m,\u001b[0m \u001b[0msa\u001b[0m \u001b[0;34m=\u001b[0m \u001b[0mres\u001b[0m\u001b[0;34m\u001b[0m\u001b[0m\n",
      "\u001b[0;31mgaierror\u001b[0m: [Errno 8] nodename nor servname provided, or not known",
      "\nDuring handling of the above exception, another exception occurred:\n",
      "\u001b[0;31mNewConnectionError\u001b[0m                        Traceback (most recent call last)",
      "\u001b[0;32m~/Documents/pprojects/scraper/lib/python3.5/site-packages/urllib3/connectionpool.py\u001b[0m in \u001b[0;36murlopen\u001b[0;34m(self, method, url, body, headers, retries, redirect, assert_same_host, timeout, pool_timeout, release_conn, chunked, body_pos, **response_kw)\u001b[0m\n\u001b[1;32m    600\u001b[0m                                                   \u001b[0mbody\u001b[0m\u001b[0;34m=\u001b[0m\u001b[0mbody\u001b[0m\u001b[0;34m,\u001b[0m \u001b[0mheaders\u001b[0m\u001b[0;34m=\u001b[0m\u001b[0mheaders\u001b[0m\u001b[0;34m,\u001b[0m\u001b[0;34m\u001b[0m\u001b[0m\n\u001b[0;32m--> 601\u001b[0;31m                                                   chunked=chunked)\n\u001b[0m\u001b[1;32m    602\u001b[0m \u001b[0;34m\u001b[0m\u001b[0m\n",
      "\u001b[0;32m~/Documents/pprojects/scraper/lib/python3.5/site-packages/urllib3/connectionpool.py\u001b[0m in \u001b[0;36m_make_request\u001b[0;34m(self, conn, method, url, timeout, chunked, **httplib_request_kw)\u001b[0m\n\u001b[1;32m    345\u001b[0m         \u001b[0;32mtry\u001b[0m\u001b[0;34m:\u001b[0m\u001b[0;34m\u001b[0m\u001b[0m\n\u001b[0;32m--> 346\u001b[0;31m             \u001b[0mself\u001b[0m\u001b[0;34m.\u001b[0m\u001b[0m_validate_conn\u001b[0m\u001b[0;34m(\u001b[0m\u001b[0mconn\u001b[0m\u001b[0;34m)\u001b[0m\u001b[0;34m\u001b[0m\u001b[0m\n\u001b[0m\u001b[1;32m    347\u001b[0m         \u001b[0;32mexcept\u001b[0m \u001b[0;34m(\u001b[0m\u001b[0mSocketTimeout\u001b[0m\u001b[0;34m,\u001b[0m \u001b[0mBaseSSLError\u001b[0m\u001b[0;34m)\u001b[0m \u001b[0;32mas\u001b[0m \u001b[0me\u001b[0m\u001b[0;34m:\u001b[0m\u001b[0;34m\u001b[0m\u001b[0m\n",
      "\u001b[0;32m~/Documents/pprojects/scraper/lib/python3.5/site-packages/urllib3/connectionpool.py\u001b[0m in \u001b[0;36m_validate_conn\u001b[0;34m(self, conn)\u001b[0m\n\u001b[1;32m    849\u001b[0m         \u001b[0;32mif\u001b[0m \u001b[0;32mnot\u001b[0m \u001b[0mgetattr\u001b[0m\u001b[0;34m(\u001b[0m\u001b[0mconn\u001b[0m\u001b[0;34m,\u001b[0m \u001b[0;34m'sock'\u001b[0m\u001b[0;34m,\u001b[0m \u001b[0;32mNone\u001b[0m\u001b[0;34m)\u001b[0m\u001b[0;34m:\u001b[0m  \u001b[0;31m# AppEngine might not have  `.sock`\u001b[0m\u001b[0;34m\u001b[0m\u001b[0m\n\u001b[0;32m--> 850\u001b[0;31m             \u001b[0mconn\u001b[0m\u001b[0;34m.\u001b[0m\u001b[0mconnect\u001b[0m\u001b[0;34m(\u001b[0m\u001b[0;34m)\u001b[0m\u001b[0;34m\u001b[0m\u001b[0m\n\u001b[0m\u001b[1;32m    851\u001b[0m \u001b[0;34m\u001b[0m\u001b[0m\n",
      "\u001b[0;32m~/Documents/pprojects/scraper/lib/python3.5/site-packages/urllib3/connection.py\u001b[0m in \u001b[0;36mconnect\u001b[0;34m(self)\u001b[0m\n\u001b[1;32m    283\u001b[0m         \u001b[0;31m# Add certificate verification\u001b[0m\u001b[0;34m\u001b[0m\u001b[0;34m\u001b[0m\u001b[0m\n\u001b[0;32m--> 284\u001b[0;31m         \u001b[0mconn\u001b[0m \u001b[0;34m=\u001b[0m \u001b[0mself\u001b[0m\u001b[0;34m.\u001b[0m\u001b[0m_new_conn\u001b[0m\u001b[0;34m(\u001b[0m\u001b[0;34m)\u001b[0m\u001b[0;34m\u001b[0m\u001b[0m\n\u001b[0m\u001b[1;32m    285\u001b[0m \u001b[0;34m\u001b[0m\u001b[0m\n",
      "\u001b[0;32m~/Documents/pprojects/scraper/lib/python3.5/site-packages/urllib3/connection.py\u001b[0m in \u001b[0;36m_new_conn\u001b[0;34m(self)\u001b[0m\n\u001b[1;32m    149\u001b[0m             raise NewConnectionError(\n\u001b[0;32m--> 150\u001b[0;31m                 self, \"Failed to establish a new connection: %s\" % e)\n\u001b[0m\u001b[1;32m    151\u001b[0m \u001b[0;34m\u001b[0m\u001b[0m\n",
      "\u001b[0;31mNewConnectionError\u001b[0m: <urllib3.connection.VerifiedHTTPSConnection object at 0x107898e10>: Failed to establish a new connection: [Errno 8] nodename nor servname provided, or not known",
      "\nDuring handling of the above exception, another exception occurred:\n",
      "\u001b[0;31mMaxRetryError\u001b[0m                             Traceback (most recent call last)",
      "\u001b[0;32m~/Documents/pprojects/scraper/lib/python3.5/site-packages/requests/adapters.py\u001b[0m in \u001b[0;36msend\u001b[0;34m(self, request, stream, timeout, verify, cert, proxies)\u001b[0m\n\u001b[1;32m    439\u001b[0m                     \u001b[0mretries\u001b[0m\u001b[0;34m=\u001b[0m\u001b[0mself\u001b[0m\u001b[0;34m.\u001b[0m\u001b[0mmax_retries\u001b[0m\u001b[0;34m,\u001b[0m\u001b[0;34m\u001b[0m\u001b[0m\n\u001b[0;32m--> 440\u001b[0;31m                     \u001b[0mtimeout\u001b[0m\u001b[0;34m=\u001b[0m\u001b[0mtimeout\u001b[0m\u001b[0;34m\u001b[0m\u001b[0m\n\u001b[0m\u001b[1;32m    441\u001b[0m                 )\n",
      "\u001b[0;32m~/Documents/pprojects/scraper/lib/python3.5/site-packages/urllib3/connectionpool.py\u001b[0m in \u001b[0;36murlopen\u001b[0;34m(self, method, url, body, headers, retries, redirect, assert_same_host, timeout, pool_timeout, release_conn, chunked, body_pos, **response_kw)\u001b[0m\n\u001b[1;32m    638\u001b[0m             retries = retries.increment(method, url, error=e, _pool=self,\n\u001b[0;32m--> 639\u001b[0;31m                                         _stacktrace=sys.exc_info()[2])\n\u001b[0m\u001b[1;32m    640\u001b[0m             \u001b[0mretries\u001b[0m\u001b[0;34m.\u001b[0m\u001b[0msleep\u001b[0m\u001b[0;34m(\u001b[0m\u001b[0;34m)\u001b[0m\u001b[0;34m\u001b[0m\u001b[0m\n",
      "\u001b[0;32m~/Documents/pprojects/scraper/lib/python3.5/site-packages/urllib3/util/retry.py\u001b[0m in \u001b[0;36mincrement\u001b[0;34m(self, method, url, response, error, _pool, _stacktrace)\u001b[0m\n\u001b[1;32m    387\u001b[0m         \u001b[0;32mif\u001b[0m \u001b[0mnew_retry\u001b[0m\u001b[0;34m.\u001b[0m\u001b[0mis_exhausted\u001b[0m\u001b[0;34m(\u001b[0m\u001b[0;34m)\u001b[0m\u001b[0;34m:\u001b[0m\u001b[0;34m\u001b[0m\u001b[0m\n\u001b[0;32m--> 388\u001b[0;31m             \u001b[0;32mraise\u001b[0m \u001b[0mMaxRetryError\u001b[0m\u001b[0;34m(\u001b[0m\u001b[0m_pool\u001b[0m\u001b[0;34m,\u001b[0m \u001b[0murl\u001b[0m\u001b[0;34m,\u001b[0m \u001b[0merror\u001b[0m \u001b[0;32mor\u001b[0m \u001b[0mResponseError\u001b[0m\u001b[0;34m(\u001b[0m\u001b[0mcause\u001b[0m\u001b[0;34m)\u001b[0m\u001b[0;34m)\u001b[0m\u001b[0;34m\u001b[0m\u001b[0m\n\u001b[0m\u001b[1;32m    389\u001b[0m \u001b[0;34m\u001b[0m\u001b[0m\n",
      "\u001b[0;31mMaxRetryError\u001b[0m: HTTPSConnectionPool(host='losangeles.craigslist.orgsearch', port=443): Max retries exceeded with url: /sss?min_price=50&srchType=T&mobile_os=2&query=galaxy_s+-cracked+-replacement+-broken+-case+-charger&sort=rel (Caused by NewConnectionError('<urllib3.connection.VerifiedHTTPSConnection object at 0x107898e10>: Failed to establish a new connection: [Errno 8] nodename nor servname provided, or not known',))",
      "\nDuring handling of the above exception, another exception occurred:\n",
      "\u001b[0;31mConnectionError\u001b[0m                           Traceback (most recent call last)",
      "\u001b[0;32m<ipython-input-30-8fe3f8e80592>\u001b[0m in \u001b[0;36m<module>\u001b[0;34m()\u001b[0m\n\u001b[0;32m----> 1\u001b[0;31m \u001b[0mr\u001b[0m \u001b[0;34m=\u001b[0m \u001b[0mrequests\u001b[0m\u001b[0;34m.\u001b[0m\u001b[0mget\u001b[0m\u001b[0;34m(\u001b[0m\u001b[0msearch_url\u001b[0m\u001b[0;34m,\u001b[0m \u001b[0mparams\u001b[0m\u001b[0;34m=\u001b[0m\u001b[0msearch_params\u001b[0m\u001b[0;34m,\u001b[0m \u001b[0mheaders\u001b[0m\u001b[0;34m=\u001b[0m\u001b[0mheaders\u001b[0m\u001b[0;34m)\u001b[0m\u001b[0;34m\u001b[0m\u001b[0m\n\u001b[0m",
      "\u001b[0;32m~/Documents/pprojects/scraper/lib/python3.5/site-packages/requests/api.py\u001b[0m in \u001b[0;36mget\u001b[0;34m(url, params, **kwargs)\u001b[0m\n\u001b[1;32m     70\u001b[0m \u001b[0;34m\u001b[0m\u001b[0m\n\u001b[1;32m     71\u001b[0m     \u001b[0mkwargs\u001b[0m\u001b[0;34m.\u001b[0m\u001b[0msetdefault\u001b[0m\u001b[0;34m(\u001b[0m\u001b[0;34m'allow_redirects'\u001b[0m\u001b[0;34m,\u001b[0m \u001b[0;32mTrue\u001b[0m\u001b[0;34m)\u001b[0m\u001b[0;34m\u001b[0m\u001b[0m\n\u001b[0;32m---> 72\u001b[0;31m     \u001b[0;32mreturn\u001b[0m \u001b[0mrequest\u001b[0m\u001b[0;34m(\u001b[0m\u001b[0;34m'get'\u001b[0m\u001b[0;34m,\u001b[0m \u001b[0murl\u001b[0m\u001b[0;34m,\u001b[0m \u001b[0mparams\u001b[0m\u001b[0;34m=\u001b[0m\u001b[0mparams\u001b[0m\u001b[0;34m,\u001b[0m \u001b[0;34m**\u001b[0m\u001b[0mkwargs\u001b[0m\u001b[0;34m)\u001b[0m\u001b[0;34m\u001b[0m\u001b[0m\n\u001b[0m\u001b[1;32m     73\u001b[0m \u001b[0;34m\u001b[0m\u001b[0m\n\u001b[1;32m     74\u001b[0m \u001b[0;34m\u001b[0m\u001b[0m\n",
      "\u001b[0;32m~/Documents/pprojects/scraper/lib/python3.5/site-packages/requests/api.py\u001b[0m in \u001b[0;36mrequest\u001b[0;34m(method, url, **kwargs)\u001b[0m\n\u001b[1;32m     56\u001b[0m     \u001b[0;31m# cases, and look like a memory leak in others.\u001b[0m\u001b[0;34m\u001b[0m\u001b[0;34m\u001b[0m\u001b[0m\n\u001b[1;32m     57\u001b[0m     \u001b[0;32mwith\u001b[0m \u001b[0msessions\u001b[0m\u001b[0;34m.\u001b[0m\u001b[0mSession\u001b[0m\u001b[0;34m(\u001b[0m\u001b[0;34m)\u001b[0m \u001b[0;32mas\u001b[0m \u001b[0msession\u001b[0m\u001b[0;34m:\u001b[0m\u001b[0;34m\u001b[0m\u001b[0m\n\u001b[0;32m---> 58\u001b[0;31m         \u001b[0;32mreturn\u001b[0m \u001b[0msession\u001b[0m\u001b[0;34m.\u001b[0m\u001b[0mrequest\u001b[0m\u001b[0;34m(\u001b[0m\u001b[0mmethod\u001b[0m\u001b[0;34m=\u001b[0m\u001b[0mmethod\u001b[0m\u001b[0;34m,\u001b[0m \u001b[0murl\u001b[0m\u001b[0;34m=\u001b[0m\u001b[0murl\u001b[0m\u001b[0;34m,\u001b[0m \u001b[0;34m**\u001b[0m\u001b[0mkwargs\u001b[0m\u001b[0;34m)\u001b[0m\u001b[0;34m\u001b[0m\u001b[0m\n\u001b[0m\u001b[1;32m     59\u001b[0m \u001b[0;34m\u001b[0m\u001b[0m\n\u001b[1;32m     60\u001b[0m \u001b[0;34m\u001b[0m\u001b[0m\n",
      "\u001b[0;32m~/Documents/pprojects/scraper/lib/python3.5/site-packages/requests/sessions.py\u001b[0m in \u001b[0;36mrequest\u001b[0;34m(self, method, url, params, data, headers, cookies, files, auth, timeout, allow_redirects, proxies, hooks, stream, verify, cert, json)\u001b[0m\n\u001b[1;32m    506\u001b[0m         }\n\u001b[1;32m    507\u001b[0m         \u001b[0msend_kwargs\u001b[0m\u001b[0;34m.\u001b[0m\u001b[0mupdate\u001b[0m\u001b[0;34m(\u001b[0m\u001b[0msettings\u001b[0m\u001b[0;34m)\u001b[0m\u001b[0;34m\u001b[0m\u001b[0m\n\u001b[0;32m--> 508\u001b[0;31m         \u001b[0mresp\u001b[0m \u001b[0;34m=\u001b[0m \u001b[0mself\u001b[0m\u001b[0;34m.\u001b[0m\u001b[0msend\u001b[0m\u001b[0;34m(\u001b[0m\u001b[0mprep\u001b[0m\u001b[0;34m,\u001b[0m \u001b[0;34m**\u001b[0m\u001b[0msend_kwargs\u001b[0m\u001b[0;34m)\u001b[0m\u001b[0;34m\u001b[0m\u001b[0m\n\u001b[0m\u001b[1;32m    509\u001b[0m \u001b[0;34m\u001b[0m\u001b[0m\n\u001b[1;32m    510\u001b[0m         \u001b[0;32mreturn\u001b[0m \u001b[0mresp\u001b[0m\u001b[0;34m\u001b[0m\u001b[0m\n",
      "\u001b[0;32m~/Documents/pprojects/scraper/lib/python3.5/site-packages/requests/sessions.py\u001b[0m in \u001b[0;36msend\u001b[0;34m(self, request, **kwargs)\u001b[0m\n\u001b[1;32m    616\u001b[0m \u001b[0;34m\u001b[0m\u001b[0m\n\u001b[1;32m    617\u001b[0m         \u001b[0;31m# Send the request\u001b[0m\u001b[0;34m\u001b[0m\u001b[0;34m\u001b[0m\u001b[0m\n\u001b[0;32m--> 618\u001b[0;31m         \u001b[0mr\u001b[0m \u001b[0;34m=\u001b[0m \u001b[0madapter\u001b[0m\u001b[0;34m.\u001b[0m\u001b[0msend\u001b[0m\u001b[0;34m(\u001b[0m\u001b[0mrequest\u001b[0m\u001b[0;34m,\u001b[0m \u001b[0;34m**\u001b[0m\u001b[0mkwargs\u001b[0m\u001b[0;34m)\u001b[0m\u001b[0;34m\u001b[0m\u001b[0m\n\u001b[0m\u001b[1;32m    619\u001b[0m \u001b[0;34m\u001b[0m\u001b[0m\n\u001b[1;32m    620\u001b[0m         \u001b[0;31m# Total elapsed time of the request (approximately)\u001b[0m\u001b[0;34m\u001b[0m\u001b[0;34m\u001b[0m\u001b[0m\n",
      "\u001b[0;32m~/Documents/pprojects/scraper/lib/python3.5/site-packages/requests/adapters.py\u001b[0m in \u001b[0;36msend\u001b[0;34m(self, request, stream, timeout, verify, cert, proxies)\u001b[0m\n\u001b[1;32m    506\u001b[0m                 \u001b[0;32mraise\u001b[0m \u001b[0mSSLError\u001b[0m\u001b[0;34m(\u001b[0m\u001b[0me\u001b[0m\u001b[0;34m,\u001b[0m \u001b[0mrequest\u001b[0m\u001b[0;34m=\u001b[0m\u001b[0mrequest\u001b[0m\u001b[0;34m)\u001b[0m\u001b[0;34m\u001b[0m\u001b[0m\n\u001b[1;32m    507\u001b[0m \u001b[0;34m\u001b[0m\u001b[0m\n\u001b[0;32m--> 508\u001b[0;31m             \u001b[0;32mraise\u001b[0m \u001b[0mConnectionError\u001b[0m\u001b[0;34m(\u001b[0m\u001b[0me\u001b[0m\u001b[0;34m,\u001b[0m \u001b[0mrequest\u001b[0m\u001b[0;34m=\u001b[0m\u001b[0mrequest\u001b[0m\u001b[0;34m)\u001b[0m\u001b[0;34m\u001b[0m\u001b[0m\n\u001b[0m\u001b[1;32m    509\u001b[0m \u001b[0;34m\u001b[0m\u001b[0m\n\u001b[1;32m    510\u001b[0m         \u001b[0;32mexcept\u001b[0m \u001b[0mClosedPoolError\u001b[0m \u001b[0;32mas\u001b[0m \u001b[0me\u001b[0m\u001b[0;34m:\u001b[0m\u001b[0;34m\u001b[0m\u001b[0m\n",
      "\u001b[0;31mConnectionError\u001b[0m: HTTPSConnectionPool(host='losangeles.craigslist.orgsearch', port=443): Max retries exceeded with url: /sss?min_price=50&srchType=T&mobile_os=2&query=galaxy_s+-cracked+-replacement+-broken+-case+-charger&sort=rel (Caused by NewConnectionError('<urllib3.connection.VerifiedHTTPSConnection object at 0x107898e10>: Failed to establish a new connection: [Errno 8] nodename nor servname provided, or not known',))"
     ]
    }
   ],
   "source": [
    "r = requests.get(search_url, params=search_params, headers=headers)"
   ]
  },
  {
   "cell_type": "code",
   "execution_count": null,
   "metadata": {},
   "outputs": [],
   "source": [
    "soup_object = bs(r.content, 'html.parser')\n",
    "# soup_object.prettify"
   ]
  },
  {
   "cell_type": "code",
   "execution_count": null,
   "metadata": {
    "collapsed": true
   },
   "outputs": [],
   "source": [
    "price_list = []\n",
    "for i, a in enumerate(soup_object.find_all('a', {'class': 'result-image gallery'})):\n",
    "    price = a.find('span', {'class': 'result-price'}).text\n",
    "    if i < 20: # Top 20, as {'sort': 'rel[evence]'} pushes chargers n shit to the back\n",
    "        price_list.append(int(price[1:])) # int(price[1:]) to turn $120 into only price integer"
   ]
  },
  {
   "cell_type": "code",
   "execution_count": null,
   "metadata": {},
   "outputs": [],
   "source": [
    "price_list"
   ]
  },
  {
   "cell_type": "code",
   "execution_count": null,
   "metadata": {
    "collapsed": true
   },
   "outputs": [],
   "source": [
    "import pandas as pd\n",
    "import numpy as np"
   ]
  },
  {
   "cell_type": "code",
   "execution_count": null,
   "metadata": {
    "collapsed": true
   },
   "outputs": [],
   "source": [
    "df = pd.DataFrame(columns=('city', 'price'), index=np.arange(0, 20*len(city_dict)))\n",
    "# index= roughly top 20 results * num of cities. index creates the vertical size of the df"
   ]
  },
  {
   "cell_type": "code",
   "execution_count": null,
   "metadata": {},
   "outputs": [],
   "source": [
    "index = 0\n",
    "\n",
    "for city in city_dict:\n",
    "    # create url, make request, make soup\n",
    "    url = city_dict[city]\n",
    "    r = requests.get(url, headers=headers, params=search_params)\n",
    "    s = bs(r.content, 'html.parser')\n",
    "    \n",
    "    # pull prices from that city webpage (20 max)\n",
    "    for i, a in enumerate(soup_object.find_all('a', {'class': 'result-image gallery'})):\n",
    "        price = a.find('span', {'class': 'result-price'}).text\n",
    "        if i < 20: # Top 20, as {'sort': 'rel[evence]'} pushes chargers n shit to the back\n",
    "            price = int(price[1:])\n",
    "            \n",
    "            # push the data into the dataframe directly. Skip list making\n",
    "            df.loc[index] = [city, price]\n",
    "            index += 1\n"
   ]
  },
  {
   "cell_type": "code",
   "execution_count": null,
   "metadata": {},
   "outputs": [],
   "source": [
    "print(df.head())\n",
    "df.head()\n",
    "# display(df.head())"
   ]
  },
  {
   "cell_type": "code",
   "execution_count": null,
   "metadata": {},
   "outputs": [],
   "source": [
    "df.info()"
   ]
  }
 ],
 "metadata": {
  "kernelspec": {
   "display_name": "Python 3",
   "language": "python",
   "name": "python3"
  },
  "language_info": {
   "codemirror_mode": {
    "name": "ipython",
    "version": 3
   },
   "file_extension": ".py",
   "mimetype": "text/x-python",
   "name": "python",
   "nbconvert_exporter": "python",
   "pygments_lexer": "ipython3",
   "version": "3.5.2"
  }
 },
 "nbformat": 4,
 "nbformat_minor": 2
}
