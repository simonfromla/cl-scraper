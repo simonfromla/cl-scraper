{
 "cells": [
  {
   "cell_type": "code",
   "execution_count": 28,
   "metadata": {},
   "outputs": [
    {
     "ename": "ImportError",
     "evalue": "No module named 'pandas'",
     "output_type": "error",
     "traceback": [
      "\u001b[0;31m---------------------------------------------------------------------------\u001b[0m",
      "\u001b[0;31mImportError\u001b[0m                               Traceback (most recent call last)",
      "\u001b[0;32m<ipython-input-28-49817933a226>\u001b[0m in \u001b[0;36m<module>\u001b[0;34m()\u001b[0m\n\u001b[1;32m      1\u001b[0m \u001b[0;32mimport\u001b[0m \u001b[0mrequests\u001b[0m\u001b[0;34m\u001b[0m\u001b[0m\n\u001b[1;32m      2\u001b[0m \u001b[0;32mfrom\u001b[0m \u001b[0mbs4\u001b[0m \u001b[0;32mimport\u001b[0m \u001b[0mBeautifulSoup\u001b[0m \u001b[0;32mas\u001b[0m \u001b[0mBS\u001b[0m\u001b[0;34m\u001b[0m\u001b[0m\n\u001b[0;32m----> 3\u001b[0;31m \u001b[0;32mimport\u001b[0m \u001b[0mpandas\u001b[0m \u001b[0;32mas\u001b[0m \u001b[0mpd\u001b[0m\u001b[0;34m\u001b[0m\u001b[0m\n\u001b[0m\u001b[1;32m      4\u001b[0m \u001b[0;32mimport\u001b[0m \u001b[0mnumpy\u001b[0m \u001b[0;32mas\u001b[0m \u001b[0mnp\u001b[0m\u001b[0;34m\u001b[0m\u001b[0m\n\u001b[1;32m      5\u001b[0m \u001b[0;34m\u001b[0m\u001b[0m\n",
      "\u001b[0;31mImportError\u001b[0m: No module named 'pandas'"
     ]
    }
   ],
   "source": [
    "import requests\n",
    "from bs4 import BeautifulSoup as BS\n",
    "import pandas as pd\n",
    "import numpy as np\n",
    "\n",
    "# url = 'https://geo.craigslist.org/iso/us' # Only USA\n",
    "url = 'https://www.craigslist.org/about/sites' # All Locations\n",
    "headers = {'User-Agent': 'Mozilla/5.0 (Macintosh; Intel Mac OS X 10_10_1) '\n",
    "           'AppleWebKit/537.36 (KHTML, like Gecko) Chrome/39.0.2171.95 Safari/'\n",
    "           '537.36'}\n",
    "response = requests.get(url, headers=headers)\n",
    "\n",
    "# print(response.content)\n",
    "# print(response.status_code)\n",
    "# print(response.headers)\n",
    "\n",
    "soup = BS(response.content, 'html.parser')\n",
    "soup.prettify\n",
    "# print(soup)\n",
    "# ul_lists = soup.find_all('a')\n",
    "# print(ul_lists)\n",
    "# print(ul_lists[8:728])\n",
    "# ul_list = soup.\n",
    "city_dict = {}\n",
    "section = soup.find('section', class_='body')\n",
    "for li in section.find_all('li'):\n",
    "    city_name = li.text\n",
    "    for link in li.find_all('a'):\n",
    "        city_dict[city_name] = link['href']\n",
    "# print(city_dict)\n",
    "        \n",
    "# for list_item in ul_lists:\n",
    "#     city_dict[list_item.text] = list_item['href']\n",
    "\n"
   ]
  },
  {
   "cell_type": "code",
   "execution_count": 19,
   "metadata": {
    "collapsed": true
   },
   "outputs": [],
   "source": [
    "# Techniques in navigating the DOM elements you want, narrowing down\n",
    "# print(len(ul_lists))\n",
    "# print(ul_lists[-1])\n",
    "# print(ul_lists)"
   ]
  },
  {
   "cell_type": "code",
   "execution_count": 20,
   "metadata": {},
   "outputs": [
    {
     "data": {
      "text/plain": [
       "'http://seoul.craigslist.co.kr/'"
      ]
     },
     "execution_count": 20,
     "metadata": {},
     "output_type": "execute_result"
    }
   ],
   "source": [
    "gz_url = city_dict[\"seoul\"]\n",
    "gz_url"
   ]
  },
  {
   "cell_type": "code",
   "execution_count": 21,
   "metadata": {
    "collapsed": true
   },
   "outputs": [],
   "source": [
    "search_url = gz_url + 'search/sss'"
   ]
  },
  {
   "cell_type": "code",
   "execution_count": 22,
   "metadata": {
    "collapsed": true
   },
   "outputs": [],
   "source": [
    "search_params = {'sort':'rel',\n",
    "                'min_price':'50',\n",
    "                'mobile_os':'2',\n",
    "                'query':'iphone 5s -cracked -replacement -broken -case -charger',\n",
    "                'srchType': 'T'}"
   ]
  },
  {
   "cell_type": "code",
   "execution_count": 23,
   "metadata": {
    "collapsed": true
   },
   "outputs": [],
   "source": [
    "r = requests.get(search_url, params=search_params, headers=headers)"
   ]
  },
  {
   "cell_type": "code",
   "execution_count": 24,
   "metadata": {
    "collapsed": true
   },
   "outputs": [],
   "source": [
    "soup_object = BS(r.content, 'html.parser')"
   ]
  },
  {
   "cell_type": "code",
   "execution_count": 25,
   "metadata": {
    "collapsed": true
   },
   "outputs": [],
   "source": [
    "# soup_object.prettify"
   ]
  },
  {
   "cell_type": "code",
   "execution_count": 26,
   "metadata": {
    "collapsed": true
   },
   "outputs": [],
   "source": [
    "price_list = []\n",
    "for i, a in enumerate(soup_object.find_all('a', {'class': 'result-image gallery'})):\n",
    "    price = a.find('span', {'class': 'result-price'}).text\n",
    "    if i < 20: # Top 20, as {'sort': 'rel[evence]'} pushes chargers n shit to the back\n",
    "        price_list.append(int(price[1:]))"
   ]
  },
  {
   "cell_type": "code",
   "execution_count": 27,
   "metadata": {},
   "outputs": [
    {
     "data": {
      "text/plain": [
       "[160000, 160000]"
      ]
     },
     "execution_count": 27,
     "metadata": {},
     "output_type": "execute_result"
    }
   ],
   "source": [
    "price_list"
   ]
  },
  {
   "cell_type": "code",
   "execution_count": null,
   "metadata": {
    "collapsed": true
   },
   "outputs": [],
   "source": []
  }
 ],
 "metadata": {
  "kernelspec": {
   "display_name": "Python 3",
   "language": "python",
   "name": "python3"
  },
  "language_info": {
   "codemirror_mode": {
    "name": "ipython",
    "version": 3
   },
   "file_extension": ".py",
   "mimetype": "text/x-python",
   "name": "python",
   "nbconvert_exporter": "python",
   "pygments_lexer": "ipython3",
   "version": "3.5.2"
  }
 },
 "nbformat": 4,
 "nbformat_minor": 2
}
